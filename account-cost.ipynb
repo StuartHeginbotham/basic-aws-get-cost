{
 "cells": [
  {
   "cell_type": "code",
   "execution_count": null,
   "metadata": {},
   "outputs": [],
   "source": [
    "import logging\n",
    "import boto3\n",
    "from dateutil import parser as p\n",
    "from dateutil.relativedelta import relativedelta as rd"
   ]
  },
  {
   "cell_type": "code",
   "execution_count": null,
   "metadata": {},
   "outputs": [],
   "source": [
    "class accountCost:\n",
    "    def __init__(self,session,mydate,mydays):\n",
    "        \n",
    "        try:\n",
    "            # create client, fix region to us-east-1 as this is the only one that supports cost explorer\n",
    "            client = session.client('ce', region_name='us-east-1')\n",
    "            \n",
    "        except Exception as e:\n",
    "            logging.error(f'ERROR creating client for cost explorer: {e}')\n",
    "        \n",
    "        try:\n",
    "            #convert input date from string\n",
    "            end_date=p.parse(mydate)\n",
    "            end_string= f'{end_date.year}-{end_date.month:02}-{end_date.day:02}'\n",
    "        \n",
    "            #calcualte yesterdays date\n",
    "            start_date = (end_date + rd(days=mydays))\n",
    "    \n",
    "            #convert yesterdays date to string\n",
    "            start_string= f'{start_date.year}-{start_date.month:02}-{start_date.day:02}'\n",
    "        except Exception as e:\n",
    "            logging.error(f'ERROR on reading date: {e}')\n",
    "        \n",
    "        try:\n",
    "            #get spend from cost explorer api\n",
    "            response = client.get_cost_and_usage(  \n",
    "                TimePeriod={\n",
    "                    'Start': start_string,\n",
    "                    'End': end_string\n",
    "                },\n",
    "                Granularity=\"DAILY\",\n",
    "                Metrics=[\n",
    "                    \"UnblendedCost\",\n",
    "                ]\n",
    "            )\n",
    "        \n",
    "            #return cost only from json api response, first value only\n",
    "            logging.info(response['ResultsByTime'][0])\n",
    "            \n",
    "            total_cost=0.0\n",
    "            \n",
    "            for day in response['ResultsByTime']:\n",
    "                total_cost=total_cost+float(day['Total']['UnblendedCost']['Amount'])\n",
    "            \n",
    "            self.cost=f'{total_cost:.2f}'\n",
    "        \n",
    "        except Exception as e:\n",
    "            logging.error(f'ERROR on fetching data: {e}')\n",
    "        \n"
   ]
  },
  {
   "cell_type": "code",
   "execution_count": null,
   "metadata": {},
   "outputs": [],
   "source": []
  }
 ],
 "metadata": {
  "kernelspec": {
   "display_name": "Python 3",
   "language": "python",
   "name": "python3"
  },
  "language_info": {
   "codemirror_mode": {
    "name": "ipython",
    "version": 3
   },
   "file_extension": ".py",
   "mimetype": "text/x-python",
   "name": "python",
   "nbconvert_exporter": "python",
   "pygments_lexer": "ipython3",
   "version": "3.7.6"
  }
 },
 "nbformat": 4,
 "nbformat_minor": 4
}
