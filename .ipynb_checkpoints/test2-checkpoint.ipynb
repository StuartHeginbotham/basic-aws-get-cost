{
 "cells": [
  {
   "cell_type": "code",
   "execution_count": 1,
   "metadata": {},
   "outputs": [
    {
     "name": "stderr",
     "output_type": "stream",
     "text": [
      "ERROR:root:File `'account-cost3.ipynb.py'` not found.\n"
     ]
    }
   ],
   "source": [
    "%run account-cost3.ipynb"
   ]
  },
  {
   "cell_type": "code",
   "execution_count": 2,
   "metadata": {},
   "outputs": [
    {
     "name": "stdout",
     "output_type": "stream",
     "text": [
      "ERROR instatiating object:name 'accountCost' is not defined\n"
     ]
    }
   ],
   "source": [
    "try:    \n",
    "\n",
    "    assert accountCost(my_session,'2020-11-01',-31).cost=='78.08','FAILED TEST'\n",
    "        \n",
    "        \n",
    "    print('PASSED')\n",
    "        \n",
    "except Exception as e:\n",
    "    \n",
    "    print(f'ERROR instatiating object:{e}')"
   ]
  },
  {
   "cell_type": "code",
   "execution_count": null,
   "metadata": {},
   "outputs": [],
   "source": []
  }
 ],
 "metadata": {
  "kernelspec": {
   "display_name": "Python 3",
   "language": "python",
   "name": "python3"
  },
  "language_info": {
   "codemirror_mode": {
    "name": "ipython",
    "version": 3
   },
   "file_extension": ".py",
   "mimetype": "text/x-python",
   "name": "python",
   "nbconvert_exporter": "python",
   "pygments_lexer": "ipython3",
   "version": "3.7.6"
  }
 },
 "nbformat": 4,
 "nbformat_minor": 4
}
