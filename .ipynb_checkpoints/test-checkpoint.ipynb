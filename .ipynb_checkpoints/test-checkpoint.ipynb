{
 "cells": [
  {
   "cell_type": "code",
   "execution_count": 1,
   "metadata": {},
   "outputs": [],
   "source": [
    "%run account-cost.ipynb"
   ]
  },
  {
   "cell_type": "code",
   "execution_count": 2,
   "metadata": {},
   "outputs": [],
   "source": [
    "logging.basicConfig(level=logging.ERROR,\n",
    "                    format='[%(asctime)s] {%(filename)s:%(lineno)d} %(levelname)s - %(message)s')"
   ]
  },
  {
   "cell_type": "code",
   "execution_count": 3,
   "metadata": {},
   "outputs": [],
   "source": [
    "try:\n",
    "    # set the profile to be used\n",
    "    profile_name='my-billing'\n",
    "    my_session = boto3.Session(profile_name=profile_name)\n",
    "\n",
    "    # check the region and profile\n",
    "    logging.info(f'INFO Profile used: {my_session.profile_name}')\n",
    "    \n",
    "except Exception as e:\n",
    "    logging.error(f'ERROR Setting profile to be used: {e}')"
   ]
  },
  {
   "cell_type": "code",
   "execution_count": 4,
   "metadata": {},
   "outputs": [
    {
     "name": "stdout",
     "output_type": "stream",
     "text": [
      "PASSED\n"
     ]
    }
   ],
   "source": [
    "try:    \n",
    "        assert accountCost(my_session,'2020-11-01',-31).cost=='79.08','FAILED TEST'\n",
    "        \n",
    "        print('PASSED')\n",
    "        \n",
    "except Exception as e:\n",
    "    \n",
    "    logging.error(f'ERROR instatiating object: {e}')"
   ]
  }
 ],
 "metadata": {
  "kernelspec": {
   "display_name": "Python 3",
   "language": "python",
   "name": "python3"
  },
  "language_info": {
   "codemirror_mode": {
    "name": "ipython",
    "version": 3
   },
   "file_extension": ".py",
   "mimetype": "text/x-python",
   "name": "python",
   "nbconvert_exporter": "python",
   "pygments_lexer": "ipython3",
   "version": "3.7.6"
  }
 },
 "nbformat": 4,
 "nbformat_minor": 4
}
