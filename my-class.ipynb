{
 "cells": [
  {
   "cell_type": "code",
   "execution_count": null,
   "metadata": {},
   "outputs": [],
   "source": [
    "import boto3\n",
    "from dateutil import parser as p\n",
    "from dateutil.relativedelta import relativedelta as rd\n",
    "class accountCost:\n",
    "    def __init__(self,session,mydate,mydays):\n",
    "        \n",
    "        # cost explorer requires region to us-east-1\n",
    "        client = session.client('ce', region_name='us-east-1')\n",
    "            \n",
    "        #convert input end date from string\n",
    "        e_date=p.parse(mydate)\n",
    "        end_string= \\\n",
    "        f'{e_date.year}-{e_date.month:02}-{e_date.day:02}'\n",
    "        \n",
    "        #calculate start date\n",
    "        s_date = (e_date + rd(days=mydays))\n",
    "    \n",
    "        #convert start date to string\n",
    "        start_string= \\\n",
    "        f'{s_date.year}-{s_date.month:02}-{s_date.day:02}'\n",
    "       \n",
    "        #get spend from cost explorer api\n",
    "        response = client.get_cost_and_usage(  \n",
    "                TimePeriod={\n",
    "                    'Start': start_string,\n",
    "                    'End': end_string\n",
    "                },\n",
    "                Granularity=\"DAILY\",\n",
    "                Metrics=[\n",
    "                    \"UnblendedCost\",\n",
    "                ]\n",
    "            )\n",
    "        \n",
    "        #total up days between start and end date\n",
    "        total_cost=0.0\n",
    "            \n",
    "        for day in response['ResultsByTime']:\n",
    "            total_cost=total_cost+float(day['Total'] \n",
    "                             ['UnblendedCost']['Amount'])\n",
    "        \n",
    "        #return result as string with two decimal points\n",
    "        self.cost=f'{total_cost:.2f}'"
   ]
  }
 ],
 "metadata": {
  "kernelspec": {
   "display_name": "Python 3",
   "language": "python",
   "name": "python3"
  },
  "language_info": {
   "codemirror_mode": {
    "name": "ipython",
    "version": 3
   },
   "file_extension": ".py",
   "mimetype": "text/x-python",
   "name": "python",
   "nbconvert_exporter": "python",
   "pygments_lexer": "ipython3",
   "version": "3.7.6"
  }
 },
 "nbformat": 4,
 "nbformat_minor": 4
}
